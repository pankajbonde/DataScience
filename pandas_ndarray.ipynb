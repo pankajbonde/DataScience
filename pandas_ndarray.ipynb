{
  "nbformat": 4,
  "nbformat_minor": 0,
  "metadata": {
    "colab": {
      "name": "pandas_ndarray.ipynb",
      "provenance": [],
      "authorship_tag": "ABX9TyMYzmfQWzrV1xLlMhqRSfOe",
      "include_colab_link": true
    },
    "kernelspec": {
      "name": "python3",
      "display_name": "Python 3"
    },
    "language_info": {
      "name": "python"
    }
  },
  "cells": [
    {
      "cell_type": "markdown",
      "metadata": {
        "id": "view-in-github",
        "colab_type": "text"
      },
      "source": [
        "<a href=\"https://colab.research.google.com/github/pankajbonde/DataScience/blob/main/pandas_ndarray.ipynb\" target=\"_parent\"><img src=\"https://colab.research.google.com/assets/colab-badge.svg\" alt=\"Open In Colab\"/></a>"
      ]
    },
    {
      "cell_type": "markdown",
      "source": [
        "Python code demonstrate creating\n",
        "# DataFrame from dict narray"
      ],
      "metadata": {
        "id": "p_9p9aQBGHyW"
      }
    },
    {
      "cell_type": "code",
      "source": [
        "import pandas as pd\n",
        "\n",
        "data = {'Subject':['English','Chemestry','Physics','Maths'],\n",
        "        'Marks':[70,89,95,93]}\n",
        "df = pd.DataFrame(data)\n",
        "\n",
        "print(df)"
      ],
      "metadata": {
        "colab": {
          "base_uri": "https://localhost:8080/"
        },
        "id": "qq0n5WiNGOBD",
        "outputId": "d6bdee1c-b622-46b1-877a-f83121e134a0"
      },
      "execution_count": 2,
      "outputs": [
        {
          "output_type": "stream",
          "name": "stdout",
          "text": [
            "     Subject  Marks\n",
            "0    English     70\n",
            "1  Chemestry     89\n",
            "2    Physics     95\n",
            "3      Maths     93\n"
          ]
        }
      ]
    },
    {
      "cell_type": "markdown",
      "source": [
        "Second Program for dict narray\n"
      ],
      "metadata": {
        "id": "GwTpRo20HcW7"
      }
    },
    {
      "cell_type": "code",
      "source": [
        "import pandas as pd\n",
        "\n",
        "data = {'Category':['Array','Stack','Queue'],\n",
        "        'Student_1':[22,25,29],'Student_2':[23,27,28]}\n",
        "df = pd.DataFrame(data) \n",
        "print(df)       "
      ],
      "metadata": {
        "colab": {
          "base_uri": "https://localhost:8080/"
        },
        "id": "karXoEzRHh7C",
        "outputId": "5a0563b5-ccff-4064-e6a5-7dc8a5e61962"
      },
      "execution_count": 3,
      "outputs": [
        {
          "output_type": "stream",
          "name": "stdout",
          "text": [
            "  Category  Student_1  Student_2\n",
            "0    Array         22         23\n",
            "1    Stack         25         27\n",
            "2    Queue         29         28\n"
          ]
        }
      ]
    },
    {
      "cell_type": "markdown",
      "source": [
        "pandas for creating dataframe by giving index"
      ],
      "metadata": {
        "id": "ATfSF3tbIdiP"
      }
    },
    {
      "cell_type": "code",
      "source": [
        "import pandas as pd \n",
        "\n",
        "data = {'Area':['Array','Stack','Queue'],\n",
        "        'Student_1':[20,21,19],'Student_2':[22,24,26]}\n",
        "df = pd.DataFrame(data,index=['cat_1','cat_2','cat_3'])\n",
        "\n",
        "print(df)\n"
      ],
      "metadata": {
        "colab": {
          "base_uri": "https://localhost:8080/"
        },
        "id": "pL3_y2OWZV3B",
        "outputId": "166c14f0-550e-41a2-83b5-0cedf48740aa"
      },
      "execution_count": 4,
      "outputs": [
        {
          "output_type": "stream",
          "name": "stdout",
          "text": [
            "        Area  Student_1  Student_2\n",
            "cat_1  Array         20         22\n",
            "cat_2  Stack         21         24\n",
            "cat_3  Queue         19         26\n"
          ]
        }
      ]
    }
  ]
}